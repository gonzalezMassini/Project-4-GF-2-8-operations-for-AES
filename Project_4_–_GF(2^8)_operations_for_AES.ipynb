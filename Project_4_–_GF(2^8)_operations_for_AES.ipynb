{
  "nbformat": 4,
  "nbformat_minor": 0,
  "metadata": {
    "colab": {
      "name": "Project 4 – GF(2^8) operations for AES.ipynb",
      "provenance": [],
      "collapsed_sections": [],
      "authorship_tag": "ABX9TyObVjuLngfGcWc/kDGTPVA8",
      "include_colab_link": true
    },
    "kernelspec": {
      "name": "python3",
      "display_name": "Python 3"
    },
    "language_info": {
      "name": "python"
    }
  },
  "cells": [
    {
      "cell_type": "markdown",
      "metadata": {
        "id": "view-in-github",
        "colab_type": "text"
      },
      "source": [
        "<a href=\"https://colab.research.google.com/github/gonzalezMassini/Project-4-GF-2-8-operations-for-AES/blob/main/Project_4_%E2%80%93_GF(2%5E8)_operations_for_AES.ipynb\" target=\"_parent\"><img src=\"https://colab.research.google.com/assets/colab-badge.svg\" alt=\"Open In Colab\"/></a>"
      ]
    },
    {
      "cell_type": "code",
      "metadata": {
        "colab": {
          "base_uri": "https://localhost:8080/",
          "height": 35
        },
        "id": "CzF0kfmew7UB",
        "outputId": "051e456d-f870-4b68-f4e7-44a25e6d307b"
      },
      "source": [
        "def bitToPol(a):\n",
        "  result = ''\n",
        "  for i in range(len(a)):\n",
        "    if a[i] == '1':\n",
        "      result = result+'x^'+str(len(a)-1-i)+'+'\n",
        "  return result[:-1]\n",
        "\n",
        "bitToPol('1001100101')"
      ],
      "execution_count": 168,
      "outputs": [
        {
          "output_type": "execute_result",
          "data": {
            "application/vnd.google.colaboratory.intrinsic+json": {
              "type": "string"
            },
            "text/plain": [
              "'x^9+x^6+x^5+x^2+x^0'"
            ]
          },
          "metadata": {},
          "execution_count": 168
        }
      ]
    },
    {
      "cell_type": "code",
      "metadata": {
        "colab": {
          "base_uri": "https://localhost:8080/"
        },
        "id": "t2B4IuLZwmXJ",
        "outputId": "9302fbf8-5176-49b1-cd4b-34aac886ecb9"
      },
      "source": [
        "def add(a,b):\n",
        "  a = int(a,2)\n",
        "  b = int(b,2)\n",
        "  return bin(a^b)[2:]\n",
        "\n",
        "print(add('11111111','11111111'))"
      ],
      "execution_count": 169,
      "outputs": [
        {
          "output_type": "stream",
          "name": "stdout",
          "text": [
            "0\n"
          ]
        }
      ]
    },
    {
      "cell_type": "code",
      "metadata": {
        "id": "Rg23o8ZgF8r1"
      },
      "source": [
        "def mod(a,m):\n",
        "  lenM = len(m)\n",
        "  m = int(m,2)\n",
        "  while True:\n",
        "    lenA = len(a)\n",
        "    a = int(a,2)\n",
        "    if lenA < lenM:\n",
        "      return bin(a)[2:]\n",
        "    mshift = m << (lenA - lenM)\n",
        "    a ^= mshift\n",
        "    a = bin(a)[2:]\n",
        "\n"
      ],
      "execution_count": 170,
      "outputs": []
    },
    {
      "cell_type": "code",
      "metadata": {
        "id": "ByKbNl3wPcZa",
        "colab": {
          "base_uri": "https://localhost:8080/"
        },
        "outputId": "e50aec31-5292-4bd7-d54f-d518de2c83f9"
      },
      "source": [
        "def mult(a,b):\n",
        "  a = int(a,2)\n",
        "  b = int(b,2)\n",
        "  result = 0\n",
        "  while a != 0:\n",
        "    if a & 1 == 1:\n",
        "      result ^= b\n",
        "    b <<= 1\n",
        "    a >>= 1\n",
        "  return mod(bin(result), '100011011')\n",
        "\n",
        "\n",
        "\n",
        "print(mult('1001001',inverse('1001001')))"
      ],
      "execution_count": 171,
      "outputs": [
        {
          "output_type": "stream",
          "name": "stdout",
          "text": [
            "1\n"
          ]
        }
      ]
    },
    {
      "cell_type": "code",
      "metadata": {
        "colab": {
          "base_uri": "https://localhost:8080/"
        },
        "id": "DAYHczh5L0NX",
        "outputId": "801cb079-2c7b-4339-f1db-20949cd67f83"
      },
      "source": [
        "def inverse(a):\n",
        "  a = int(a,2)\n",
        "  if a == 0:\n",
        "    return 0\n",
        "\n",
        "  for i in range(1,256):\n",
        "    if mult(bin(a),bin(i)) == '1':\n",
        "      return bin(i)[2:]\n",
        "\n",
        "print(inverse(inverse('10010101')))"
      ],
      "execution_count": 172,
      "outputs": [
        {
          "output_type": "stream",
          "name": "stdout",
          "text": [
            "10010101\n"
          ]
        }
      ]
    },
    {
      "cell_type": "code",
      "metadata": {
        "colab": {
          "base_uri": "https://localhost:8080/"
        },
        "id": "yIZQvDp1CR2e",
        "outputId": "363ddb53-b0b0-4471-ca04-ae91d78cf4ea"
      },
      "source": [
        "def sbox_generation():\n",
        "    a = []\n",
        "    y = []\n",
        "    for i in range(256):\n",
        "        a.append(0)\n",
        "        y.append(0)\n",
        "\n",
        "    m = int('100011011',2)\n",
        "    x=1\n",
        "    for i in range(256):\n",
        "        a[i] = x\n",
        "        x^=(x<<1)^((x>>7)*m)\n",
        "    y[0] = hex(0x63)[2:]\n",
        "    for i in range(255):\n",
        "        x = a[255-i]\n",
        "        x |= x<<8\n",
        "     \n",
        "\n",
        "        x^= (x>>4)^(x>>5)^(x>>6)^(x>>7)\n",
        "        \n",
        "        y[a[i]] = hex(0xFF &(x^ 0x63))[2:]\n",
        "    return y      \n",
        "\n",
        "printSbox(sbox_generation())  "
      ],
      "execution_count": 173,
      "outputs": [
        {
          "output_type": "stream",
          "name": "stdout",
          "text": [
            "['63', '7C', '77', '7B', 'F2', '6B', '6F', 'C5', '30', '01', '67', '2B', 'FE', 'D7', 'AB', '76']\n",
            "['CA', '82', 'C9', '7D', 'FA', '59', '47', 'F0', 'AD', 'D4', 'A2', 'AF', '9C', 'A4', '72', 'C0']\n",
            "['B7', 'FD', '93', '26', '36', '3F', 'F7', 'CC', '34', 'A5', 'E5', 'F1', '71', 'D8', '31', '15']\n",
            "['04', 'C7', '23', 'C3', '18', '96', '05', '9A', '07', '12', '80', 'E2', 'EB', '27', 'B2', '75']\n",
            "['09', '83', '2C', '1A', '1B', '6E', '5A', 'A0', '52', '3B', 'D6', 'B3', '29', 'E3', '2F', '84']\n",
            "['53', 'D1', '00', 'ED', '20', 'FC', 'B1', '5B', '6A', 'CB', 'BE', '39', '4A', '4C', '58', 'CF']\n",
            "['D0', 'EF', 'AA', 'FB', '43', '4D', '33', '85', '45', 'F9', '02', '7F', '50', '3C', '9F', 'A8']\n",
            "['51', 'A3', '40', '8F', '92', '9D', '38', 'F5', 'BC', 'B6', 'DA', '21', '10', 'FF', 'F3', 'D2']\n",
            "['CD', '0C', '13', 'EC', '5F', '97', '44', '17', 'C4', 'A7', '7E', '3D', '64', '5D', '19', '73']\n",
            "['60', '81', '4F', 'DC', '22', '2A', '90', '88', '46', 'EE', 'B8', '14', 'DE', '5E', '0B', 'DB']\n",
            "['E0', '32', '3A', '0A', '49', '06', '24', '5C', 'C2', 'D3', 'AC', '62', '91', '95', 'E4', '79']\n",
            "['E7', 'C8', '37', '6D', '8D', 'D5', '4E', 'A9', '6C', '56', 'F4', 'EA', '65', '7A', 'AE', '08']\n",
            "['BA', '78', '25', '2E', '1C', 'A6', 'B4', 'C6', 'E8', 'DD', '74', '1F', '4B', 'BD', '8B', '8A']\n",
            "['70', '3E', 'B5', '66', '48', '03', 'F6', '0E', '61', '35', '57', 'B9', '86', 'C1', '1D', '9E']\n",
            "['E1', 'F8', '98', '11', '69', 'D9', '8E', '94', '9B', '1E', '87', 'E9', 'CE', '55', '28', 'DF']\n",
            "['8C', 'A1', '89', '0D', 'BF', 'E6', '42', '68', '41', '99', '2D', '0F', 'B0', '54', 'BB', '16']\n"
          ]
        }
      ]
    },
    {
      "cell_type": "code",
      "metadata": {
        "colab": {
          "base_uri": "https://localhost:8080/"
        },
        "id": "TQp9C_V2Ka8t",
        "outputId": "21dd3466-bbb6-47db-a6e5-d4c4a432f692"
      },
      "source": [
        "def sbox_inverse_generation():\n",
        "    a = []\n",
        "    y = []\n",
        "    for i in range(256):\n",
        "        a.append(0)\n",
        "        y.append(0)\n",
        "    m = int('100011011',2)\n",
        "    x=1\n",
        "    for i in range(256):\n",
        "        a[i] = x\n",
        "        x^=(x<<1)^ ((x>>7)*m)\n",
        "\n",
        "    y[0] = hex(0x52)[2:]\n",
        "    for i in range(255):\n",
        "        x = a[255-i]\n",
        "        x |= x<<8\n",
        "        x^= (x<<1)^(x<<3)^(x<<6)\n",
        "        x = int(inverse(bin(x)[2:]),2)\n",
        "        y[a[i]] = hex(0xFF &(x^ 0x05))[2:]\n",
        "    \n",
        "    return y\n",
        "\n",
        "printSbox(sbox_inverse_generation()) "
      ],
      "execution_count": 174,
      "outputs": [
        {
          "output_type": "stream",
          "name": "stdout",
          "text": [
            "['52', '50', 'AF', 'FA', '4A', '1F', 'E0', 'B5', '9B', 'CE', '31', '64', 'D4', '81', '7E', '2B']\n",
            "['22', '77', '88', 'DD', '6D', '38', 'C7', '92', 'BC', 'E9', '16', '43', 'F3', 'A6', '59', '0C']\n",
            "['4B', '1E', 'E1', 'B4', '04', '51', 'AE', 'FB', 'D5', '80', '7F', '2A', '9A', 'CF', '30', '65']\n",
            "['6C', '39', 'C6', '93', '23', '76', '89', 'DC', 'F2', 'A7', '58', '0D', 'BD', 'E8', '17', '42']\n",
            "['99', 'CC', '33', '66', 'D6', '83', '7C', '29', '07', '52', 'AD', 'F8', '48', '1D', 'E2', 'B7']\n",
            "['BE', 'EB', '14', '41', 'F1', 'A4', '5B', '0E', '20', '75', '8A', 'DF', '6F', '3A', 'C5', '90']\n",
            "['D7', '82', '7D', '28', '98', 'CD', '32', '67', '49', '1C', 'E3', 'B6', '06', '53', 'AC', 'F9']\n",
            "['F0', 'A5', '5A', '0F', 'BF', 'EA', '15', '40', '6E', '3B', 'C4', '91', '21', '74', '8B', 'DE']\n",
            "['26', '73', '8C', 'D9', '69', '3C', 'C3', '96', 'B8', 'ED', '12', '47', 'F7', 'A2', '5D', '08']\n",
            "['01', '54', 'AB', 'FE', '4E', '1B', 'E4', 'B1', '9F', 'CA', '35', '60', 'D0', '85', '7A', '2F']\n",
            "['68', '3D', 'C2', '97', '27', '72', '8D', 'D8', 'F6', 'A3', '5C', '09', 'B9', 'EC', '13', '46']\n",
            "['4F', '1A', 'E5', 'B0', '00', '55', 'AA', 'FF', 'D1', '84', '7B', '2E', '9E', 'CB', '34', '61']\n",
            "['BA', 'EF', '10', '45', 'F5', 'A0', '5F', '0A', '24', '71', '8E', 'DB', '6B', '3E', 'C1', '94']\n",
            "['9D', 'C8', '37', '62', 'D2', '87', '78', '2D', '03', '56', 'A9', 'FC', '4C', '19', 'E6', 'B3']\n",
            "['F4', 'A1', '5E', '0B', 'BB', 'EE', '11', '44', '6A', '3F', 'C0', '95', '25', '70', '8F', 'DA']\n",
            "['D3', '86', '79', '2C', '9C', 'C9', '36', '63', '4D', '18', 'E7', 'B2', '02', '57', 'A8', 'FD']\n"
          ]
        }
      ]
    },
    {
      "cell_type": "code",
      "metadata": {
        "id": "Yt0adzo8m3gd"
      },
      "source": [
        "def printSbox(a):\n",
        "    result = [['','','','','','','','','','','','','','','',''],\n",
        "              ['','','','','','','','','','','','','','','',''],\n",
        "              ['','','','','','','','','','','','','','','',''],\n",
        "              ['','','','','','','','','','','','','','','',''],\n",
        "              ['','','','','','','','','','','','','','','',''],\n",
        "              ['','','','','','','','','','','','','','','',''],\n",
        "              ['','','','','','','','','','','','','','','',''],\n",
        "              ['','','','','','','','','','','','','','','',''],\n",
        "              ['','','','','','','','','','','','','','','',''],\n",
        "              ['','','','','','','','','','','','','','','',''],\n",
        "              ['','','','','','','','','','','','','','','',''],\n",
        "              ['','','','','','','','','','','','','','','',''],\n",
        "              ['','','','','','','','','','','','','','','',''],\n",
        "              ['','','','','','','','','','','','','','','',''],\n",
        "              ['','','','','','','','','','','','','','','',''],\n",
        "              ['','','','','','','','','','','','','','','','']]\n",
        "\n",
        "    for i in range(len(result)):\n",
        "        for j in range(len(result[i])):\n",
        "            result[i][j] = a.pop(0).upper()\n",
        "            if len(result[i][j]) == 1:\n",
        "                result[i][j] = '0'+result[i][j]\n",
        "            \n",
        "    for i in result:\n",
        "        print(i)"
      ],
      "execution_count": 175,
      "outputs": []
    }
  ]
}